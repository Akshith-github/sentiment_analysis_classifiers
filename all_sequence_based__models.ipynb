{
  "nbformat": 4,
  "nbformat_minor": 0,
  "metadata": {
    "orig_nbformat": 2,
    "kernelspec": {
      "name": "python3",
      "display_name": "Python 3"
    },
    "colab": {
      "name": "all_sequence_based _models.ipynb",
      "provenance": [],
      "collapsed_sections": [
        "HyXureKYCvHX",
        "9R89f3JnDEEc",
        "TPTmxhccDZYp",
        "5gsZk0WZDUee",
        "HicqT-OpDjLK",
        "G_JvckNcEueB",
        "mwSZ_nj3Rm9s",
        "IkncnNttFE34",
        "fTH-GlomFKAa",
        "eEmUNvl4Rm96",
        "1921FnYvFeLG",
        "2fjkZgDrFhJb",
        "6cIfHs3uRm-E",
        "5xTStYbZHsrg",
        "wE4QPznVH2fT",
        "bc_H-4cJIvB2"
      ]
    },
    "accelerator": "GPU"
  },
  "cells": [
    {
      "cell_type": "markdown",
      "metadata": {
        "id": "HyXureKYCvHX"
      },
      "source": [
        "# Functionalities Import statements"
      ]
    },
    {
      "cell_type": "code",
      "metadata": {
        "id": "p8yHQKzLRm9O"
      },
      "source": [
        "import keras\n",
        "from keras.datasets import imdb\n",
        "from keras.preprocessing.sequence import pad_sequences\n",
        "import pandas as pd \n",
        "from keras.layers import Dense, Flatten, Dropout \n",
        "from keras.layers import Embedding\n",
        "from keras.models import Sequential\n",
        "from keras.callbacks import ModelCheckpoint\n",
        "\n",
        "import os \n",
        "import numpy as np\n",
        "from sklearn.metrics import roc_auc_score, roc_curve\n",
        "import matplotlib.pyplot as plt\n",
        "%matplotlib inline "
      ],
      "execution_count": 1,
      "outputs": []
    },
    {
      "cell_type": "code",
      "metadata": {
        "id": "ADyba44HDvmY"
      },
      "source": [
        "import pandas as pd\n",
        "from sklearn.metrics import confusion_matrix\n",
        "from sklearn.metrics import accuracy_score\n",
        "from sklearn.metrics import recall_score\n",
        "from sklearn.metrics import precision_score\n",
        "from sklearn.metrics import classification_report\n",
        "from sklearn.metrics import classification_report, confusion_matrix, accuracy_score"
      ],
      "execution_count": 2,
      "outputs": []
    },
    {
      "cell_type": "code",
      "metadata": {
        "id": "B3vhTUgJEATa"
      },
      "source": [
        "# all in one evaluation function\n",
        "def scores(y_hat):\n",
        "  preds=pd.DataFrame(y_hat)\n",
        "  preds.columns=[\"p\"]\n",
        "  preds[\"pred\"]=preds.p.apply(lambda x: 1 if (x>=0.5) else 0)\n",
        "  preds[\"actual\"]=pd.DataFrame(y_valid,columns=[\"actual\"])\n",
        "  preds[\"coreect\"]=preds.pred==preds.actual\n",
        "  preds.coreect=preds.coreect.astype(int)\n",
        "  print(\"accuracy=\",preds.coreect.mean())\n",
        "  a=preds.groupby(\"actual\").coreect.value_counts().unstack()\n",
        "  a.plot(kind='bar')\n",
        "  a.columns=[\"incorrect\",\"correct\"]\n",
        "  print(a)\n",
        "  y_true1=y_valid\n",
        "  y_pred_1=preds.pred.values\n",
        "  print(\"# Confusion Matrix: \",confusion_matrix(y_true1, y_pred_1),sep=\"\\n\")                  # Confusion Matrix\n",
        "  print(\"# # Accuracy: \",accuracy_score(y_true1, y_pred_1),sep=\"\\n\")                          # Accuracy\n",
        "  print(\"# Recall: \",recall_score(y_true1, y_pred_1, average=None),sep=\"\\n\")                 # Recall\n",
        "  print(\"# Precision: \",precision_score(y_true1, y_pred_1, average=None),sep=\"\\n\") \n",
        "  print(classification_report(y_true1, y_pred_1)) "
      ],
      "execution_count": 4,
      "outputs": []
    },
    {
      "cell_type": "markdown",
      "metadata": {
        "id": "9R89f3JnDEEc"
      },
      "source": [
        "# Dataset pipelining,embedding ... operations"
      ]
    },
    {
      "cell_type": "code",
      "metadata": {
        "id": "Lt3widDFRm9S",
        "colab": {
          "base_uri": "https://localhost:8080/"
        },
        "outputId": "0c130c10-2ff2-4eaa-c493-ee34c3f0b7af"
      },
      "source": [
        "directory = \"trained_nn_models\"\n",
        "try:\n",
        "    os.makedirs(directory, exist_ok = True)\n",
        "    print(\"Directory '%s' created successfully\" % directory)\n",
        "except OSError as error:\n",
        "    print(\"Directory '%s' can not be created\" % directory)\n",
        "#Training \n",
        "epochs = 4;batch_size = 128\n",
        "#vector-space embedding\n",
        "n_dim = 64;n_unique_words = 5000;n_words_to_skip = 50;max_review_length = 130;pad_type = trunc_type = 'pre'\n",
        "n_dense = 128;dropout = 0.5#NN\n",
        "\n",
        "(X_train,y_train),(X_valid,y_valid) = imdb.load_data(num_words=n_unique_words,skip_top=n_words_to_skip)"
      ],
      "execution_count": 26,
      "outputs": [
        {
          "output_type": "stream",
          "text": [
            "Directory 'trained_nn_models' created successfully\n"
          ],
          "name": "stdout"
        },
        {
          "output_type": "stream",
          "text": [
            "<string>:6: VisibleDeprecationWarning: Creating an ndarray from ragged nested sequences (which is a list-or-tuple of lists-or-tuples-or ndarrays with different lengths or shapes) is deprecated. If you meant to do this, you must specify 'dtype=object' when creating the ndarray\n",
            "/usr/local/lib/python3.7/dist-packages/tensorflow/python/keras/datasets/imdb.py:159: VisibleDeprecationWarning: Creating an ndarray from ragged nested sequences (which is a list-or-tuple of lists-or-tuples-or ndarrays with different lengths or shapes) is deprecated. If you meant to do this, you must specify 'dtype=object' when creating the ndarray\n",
            "  x_train, y_train = np.array(xs[:idx]), np.array(labels[:idx])\n",
            "/usr/local/lib/python3.7/dist-packages/tensorflow/python/keras/datasets/imdb.py:160: VisibleDeprecationWarning: Creating an ndarray from ragged nested sequences (which is a list-or-tuple of lists-or-tuples-or ndarrays with different lengths or shapes) is deprecated. If you meant to do this, you must specify 'dtype=object' when creating the ndarray\n",
            "  x_test, y_test = np.array(xs[idx:]), np.array(labels[idx:])\n"
          ],
          "name": "stderr"
        }
      ]
    },
    {
      "cell_type": "code",
      "metadata": {
        "id": "QYmrfjNNRm9V",
        "colab": {
          "base_uri": "https://localhost:8080/"
        },
        "outputId": "6fda8f91-5892-4e67-abaa-61dae8d9cd73"
      },
      "source": [
        "X_train.shape,y_train.shape,X_train.shape,y_train.shape"
      ],
      "execution_count": 5,
      "outputs": [
        {
          "output_type": "execute_result",
          "data": {
            "text/plain": [
              "((25000,), (25000,), (25000,), (25000,))"
            ]
          },
          "metadata": {
            "tags": []
          },
          "execution_count": 5
        }
      ]
    },
    {
      "cell_type": "code",
      "metadata": {
        "colab": {
          "base_uri": "https://localhost:8080/"
        },
        "id": "IxZz0paFEMP9",
        "outputId": "b2f132b1-aff1-4dc2-839b-485f49897626"
      },
      "source": [
        "len(X_train[1]),set(y_train)"
      ],
      "execution_count": 12,
      "outputs": [
        {
          "output_type": "execute_result",
          "data": {
            "text/plain": [
              "(189, {0, 1})"
            ]
          },
          "metadata": {
            "tags": []
          },
          "execution_count": 12
        }
      ]
    },
    {
      "cell_type": "markdown",
      "metadata": {
        "id": "TPTmxhccDZYp"
      },
      "source": [
        "# Neural network models"
      ]
    },
    {
      "cell_type": "markdown",
      "metadata": {
        "id": "5gsZk0WZDUee"
      },
      "source": [
        "## DNN model"
      ]
    },
    {
      "cell_type": "markdown",
      "metadata": {
        "id": "HicqT-OpDjLK"
      },
      "source": [
        "### Training DNN model"
      ]
    },
    {
      "cell_type": "code",
      "metadata": {
        "id": "wUVNRqvQRm9a",
        "colab": {
          "base_uri": "https://localhost:8080/"
        },
        "outputId": "c140de40-df79-47f5-a371-7e6cabe7f7c0"
      },
      "source": [
        "word_index = keras.datasets.imdb.get_word_index()\n",
        "word_index = {k:(v+3) for k,v in word_index.items()}\n",
        "word_index['PAD']=0;word_index['START']=1;word_index['UNK']=2\n",
        "index_words = {v:k for k,v in word_index.items()}\n",
        "' '.join(index_words[id] for id in X_train[0])\n",
        "(all_x_train,_),(all_x_valid,_) = imdb.load_data() \n",
        "X_train = pad_sequences(X_train,maxlen=max_review_length,padding=pad_type,value=0)\n",
        "X_valid = pad_sequences(X_valid,maxlen=max_review_length,padding=pad_type,value=0)\n",
        "\n",
        "dnnmodel = Sequential(\n",
        "    [Embedding(n_unique_words, n_dim, input_length=max_review_length),\n",
        "                    Flatten(),Dense(n_dense, activation='relu'),Dense(1,activation='sigmoid')])\n",
        "dnnmodel.summary()\n",
        "dnnmodel.compile(loss='binary_crossentropy',optimizer='adam',metrics=['accuracy'])"
      ],
      "execution_count": 13,
      "outputs": [
        {
          "output_type": "stream",
          "text": [
            "Downloading data from https://storage.googleapis.com/tensorflow/tf-keras-datasets/imdb_word_index.json\n",
            "1646592/1641221 [==============================] - 0s 0us/step\n"
          ],
          "name": "stdout"
        },
        {
          "output_type": "stream",
          "text": [
            "<string>:6: VisibleDeprecationWarning: Creating an ndarray from ragged nested sequences (which is a list-or-tuple of lists-or-tuples-or ndarrays with different lengths or shapes) is deprecated. If you meant to do this, you must specify 'dtype=object' when creating the ndarray\n",
            "/usr/local/lib/python3.7/dist-packages/tensorflow/python/keras/datasets/imdb.py:159: VisibleDeprecationWarning: Creating an ndarray from ragged nested sequences (which is a list-or-tuple of lists-or-tuples-or ndarrays with different lengths or shapes) is deprecated. If you meant to do this, you must specify 'dtype=object' when creating the ndarray\n",
            "  x_train, y_train = np.array(xs[:idx]), np.array(labels[:idx])\n",
            "/usr/local/lib/python3.7/dist-packages/tensorflow/python/keras/datasets/imdb.py:160: VisibleDeprecationWarning: Creating an ndarray from ragged nested sequences (which is a list-or-tuple of lists-or-tuples-or ndarrays with different lengths or shapes) is deprecated. If you meant to do this, you must specify 'dtype=object' when creating the ndarray\n",
            "  x_test, y_test = np.array(xs[idx:]), np.array(labels[idx:])\n"
          ],
          "name": "stderr"
        },
        {
          "output_type": "stream",
          "text": [
            "Model: \"sequential\"\n",
            "_________________________________________________________________\n",
            "Layer (type)                 Output Shape              Param #   \n",
            "=================================================================\n",
            "embedding (Embedding)        (None, 130, 64)           320000    \n",
            "_________________________________________________________________\n",
            "flatten (Flatten)            (None, 8320)              0         \n",
            "_________________________________________________________________\n",
            "dense (Dense)                (None, 128)               1065088   \n",
            "_________________________________________________________________\n",
            "dense_1 (Dense)              (None, 1)                 129       \n",
            "=================================================================\n",
            "Total params: 1,385,217\n",
            "Trainable params: 1,385,217\n",
            "Non-trainable params: 0\n",
            "_________________________________________________________________\n"
          ],
          "name": "stdout"
        }
      ]
    },
    {
      "cell_type": "code",
      "metadata": {
        "id": "hZF8PeBORm9i",
        "colab": {
          "base_uri": "https://localhost:8080/"
        },
        "outputId": "758decb0-ba71-476a-faa3-f4347a98eade"
      },
      "source": [
        "dnnhist=dnnmodel.fit(X_train, y_train, batch_size=batch_size, epochs=epochs,verbose=1, validation_data=(X_valid, y_valid))"
      ],
      "execution_count": 14,
      "outputs": [
        {
          "output_type": "stream",
          "text": [
            "Epoch 1/4\n",
            "196/196 [==============================] - 6s 13ms/step - loss: 0.6297 - accuracy: 0.6227 - val_loss: 0.3247 - val_accuracy: 0.8562\n",
            "Epoch 2/4\n",
            "196/196 [==============================] - 2s 10ms/step - loss: 0.2280 - accuracy: 0.9128 - val_loss: 0.3337 - val_accuracy: 0.8542\n",
            "Epoch 3/4\n",
            "196/196 [==============================] - 2s 10ms/step - loss: 0.0695 - accuracy: 0.9858 - val_loss: 0.4408 - val_accuracy: 0.8443\n",
            "Epoch 4/4\n",
            "196/196 [==============================] - 2s 11ms/step - loss: 0.0081 - accuracy: 0.9996 - val_loss: 0.5281 - val_accuracy: 0.8460\n"
          ],
          "name": "stdout"
        }
      ]
    },
    {
      "cell_type": "markdown",
      "metadata": {
        "id": "G_JvckNcEueB"
      },
      "source": [
        "### evaluating dnn models performance"
      ]
    },
    {
      "cell_type": "code",
      "metadata": {
        "id": "sPVXUN4zRm9o",
        "colab": {
          "base_uri": "https://localhost:8080/",
          "height": 0
        },
        "outputId": "563f0ddc-29af-4dea-89d8-fd67e724e4b6"
      },
      "source": [
        "y_hat = dnnmodel.predict(X_valid)\n",
        "plt.hist(y_hat)\n",
        "_ = plt.axvline(x=0.5, color='orange')\n",
        "plt.tight_layout()\n",
        "auc = roc_auc_score(y_valid,y_hat)*100;print(auc)"
      ],
      "execution_count": 15,
      "outputs": [
        {
          "output_type": "stream",
          "text": [
            "92.57146496000001\n"
          ],
          "name": "stdout"
        },
        {
          "output_type": "display_data",
          "data": {
            "image/png": "[encoded data removed]",
            "text/plain": [
              "<Figure size 432x288 with 1 Axes>"
            ]
          },
          "metadata": {
            "tags": [],
            "needs_background": "light"
          }
        }
      ]
    },
    {
      "cell_type": "code",
      "metadata": {
        "id": "4VSv4vEMPdFL",
        "colab": {
          "base_uri": "https://localhost:8080/",
          "height": 0
        },
        "outputId": "d31abd12-4d77-4a3e-d288-782c8a2ac591"
      },
      "source": [
        "scores(y_hat)\n",
        "#   print(confusion_matrix(y_true1, y_pred_1))\n",
        "#   print(classification_report(y_true1, y_pred_1))\n",
        "# print(accuracy_score(y_true1, y_pred_1))"
      ],
      "execution_count": 17,
      "outputs": [
        {
          "output_type": "stream",
          "text": [
            "accuracy= 0.846\n",
            "        incorrect  correct\n",
            "actual                    \n",
            "0            1790    10710\n",
            "1            2060    10440\n",
            "# Confusion Matrix: \n",
            "[[10710  1790]\n",
            " [ 2060 10440]]\n",
            "# # Accuracy: \n",
            "0.846\n",
            "# Recall: \n",
            "[0.8568 0.8352]\n",
            "# Precision: \n",
            "[0.83868442 0.85363859]\n",
            "              precision    recall  f1-score   support\n",
            "\n",
            "           0       0.84      0.86      0.85     12500\n",
            "           1       0.85      0.84      0.84     12500\n",
            "\n",
            "    accuracy                           0.85     25000\n",
            "   macro avg       0.85      0.85      0.85     25000\n",
            "weighted avg       0.85      0.85      0.85     25000\n",
            "\n"
          ],
          "name": "stdout"
        },
        {
          "output_type": "display_data",
          "data": {
            "image/png": "[encoded data removed]",
            "text/plain": [
              "<Figure size 432x288 with 1 Axes>"
            ]
          },
          "metadata": {
            "tags": [],
            "needs_background": "light"
          }
        }
      ]
    },
    {
      "cell_type": "markdown",
      "metadata": {
        "id": "mwSZ_nj3Rm9s"
      },
      "source": [
        "## RNN Model"
      ]
    },
    {
      "cell_type": "markdown",
      "metadata": {
        "id": "IkncnNttFE34"
      },
      "source": [
        "### Training  RNN model"
      ]
    },
    {
      "cell_type": "code",
      "metadata": {
        "id": "hlXKw5_IRm9s",
        "colab": {
          "base_uri": "https://localhost:8080/"
        },
        "outputId": "74a7c406-7f94-478f-eb7f-82a1bab319ff"
      },
      "source": [
        "from keras.layers import SimpleRNN,SpatialDropout1D # new!\n",
        "epochs = 4;batch_size = 128#Training \n",
        "n_dim = 64;n_unique_words = 5000;max_review_length = 100;pad_type = trunc_type = 'pre';drop_embed = 0.25#vector-space embedding\n",
        "n_rnn = 256;drop_rnn = 0.2#rnn architecture \n",
        "(X_train,y_train),(X_valid,y_valid) = imdb.load_data(num_words=n_unique_words)\n",
        "X_train = pad_sequences(X_train,maxlen=max_review_length,padding=pad_type,value=0)\n",
        "X_valid = pad_sequences(X_valid,maxlen=max_review_length,padding=pad_type,value=0)"
      ],
      "execution_count": 32,
      "outputs": [
        {
          "output_type": "stream",
          "text": [
            "<string>:6: VisibleDeprecationWarning: Creating an ndarray from ragged nested sequences (which is a list-or-tuple of lists-or-tuples-or ndarrays with different lengths or shapes) is deprecated. If you meant to do this, you must specify 'dtype=object' when creating the ndarray\n",
            "/usr/local/lib/python3.7/dist-packages/tensorflow/python/keras/datasets/imdb.py:159: VisibleDeprecationWarning: Creating an ndarray from ragged nested sequences (which is a list-or-tuple of lists-or-tuples-or ndarrays with different lengths or shapes) is deprecated. If you meant to do this, you must specify 'dtype=object' when creating the ndarray\n",
            "  x_train, y_train = np.array(xs[:idx]), np.array(labels[:idx])\n",
            "/usr/local/lib/python3.7/dist-packages/tensorflow/python/keras/datasets/imdb.py:160: VisibleDeprecationWarning: Creating an ndarray from ragged nested sequences (which is a list-or-tuple of lists-or-tuples-or ndarrays with different lengths or shapes) is deprecated. If you meant to do this, you must specify 'dtype=object' when creating the ndarray\n",
            "  x_test, y_test = np.array(xs[idx:]), np.array(labels[idx:])\n"
          ],
          "name": "stderr"
        }
      ]
    },
    {
      "cell_type": "code",
      "metadata": {
        "id": "ezNR_U_kRm9v",
        "colab": {
          "base_uri": "https://localhost:8080/"
        },
        "outputId": "b3e156a3-d489-42e7-c3e8-e8dfaf09a793"
      },
      "source": [
        "rnnmodel = Sequential([\n",
        "    Embedding(n_unique_words, n_dim, input_length=max_review_length),\n",
        "    SpatialDropout1D(drop_embed),\n",
        "    SimpleRNN(n_rnn, dropout=drop_rnn),\n",
        "    Dense(1,activation='sigmoid')])\n",
        "rnnmodel.summary()\n",
        "rnnmodel.compile(loss='binary_crossentropy',optimizer='adam',metrics=['accuracy'])\n",
        "modelcheckpoint = ModelCheckpoint(filepath=output_dir+\"/weights.{epoch:02d}.hdf5\")\n",
        "rnnhist=rnnmodel.fit(X_train, y_train, batch_size=batch_size, epochs=epochs,verbose=1, validation_data=(X_valid, y_valid))#,callbacks=[modelcheckpoint])\n",
        "# rnnmodel.load_weights(directory+\"/weights_08.hdf5\")\n"
      ],
      "execution_count": 33,
      "outputs": [
        {
          "output_type": "stream",
          "text": [
            "Model: \"sequential_3\"\n",
            "_________________________________________________________________\n",
            "Layer (type)                 Output Shape              Param #   \n",
            "=================================================================\n",
            "embedding_3 (Embedding)      (None, 100, 64)           320000    \n",
            "_________________________________________________________________\n",
            "spatial_dropout1d_2 (Spatial (None, 100, 64)           0         \n",
            "_________________________________________________________________\n",
            "simple_rnn_2 (SimpleRNN)     (None, 256)               82176     \n",
            "_________________________________________________________________\n",
            "dense_4 (Dense)              (None, 1)                 257       \n",
            "=================================================================\n",
            "Total params: 402,433\n",
            "Trainable params: 402,433\n",
            "Non-trainable params: 0\n",
            "_________________________________________________________________\n",
            "Epoch 1/4\n",
            "196/196 [==============================] - 24s 117ms/step - loss: 0.7080 - accuracy: 0.4985 - val_loss: 0.6980 - val_accuracy: 0.4986\n",
            "Epoch 2/4\n",
            "196/196 [==============================] - 23s 116ms/step - loss: 0.6981 - accuracy: 0.5057 - val_loss: 0.6946 - val_accuracy: 0.5059\n",
            "Epoch 3/4\n",
            "196/196 [==============================] - 23s 119ms/step - loss: 0.6951 - accuracy: 0.5186 - val_loss: 0.6884 - val_accuracy: 0.5184\n",
            "Epoch 4/4\n",
            "196/196 [==============================] - 23s 118ms/step - loss: 0.6750 - accuracy: 0.5671 - val_loss: 0.6576 - val_accuracy: 0.5869\n"
          ],
          "name": "stdout"
        }
      ]
    },
    {
      "cell_type": "code",
      "metadata": {
        "id": "G1vEbBmrF5p0"
      },
      "source": [
        "rnnmodel.save_weights(\"trained_nn_models/weights_08.h5\")"
      ],
      "execution_count": 30,
      "outputs": []
    },
    {
      "cell_type": "markdown",
      "metadata": {
        "id": "fTH-GlomFKAa"
      },
      "source": [
        "### evaluating RNN performance"
      ]
    },
    {
      "cell_type": "code",
      "metadata": {
        "id": "HyclRENQRm9y",
        "colab": {
          "base_uri": "https://localhost:8080/",
          "height": 0
        },
        "outputId": "3c6c4606-d821-419f-ac9c-b49a1ed874d9"
      },
      "source": [
        "y_hat = rnnmodel.predict(X_valid)\n",
        "plt.hist(y_hat)\n",
        "_ = plt.axvline(x=0.5, color='orange')\n",
        "plt.tight_layout()\n",
        "auc = roc_auc_score(y_valid,y_hat)*100\n",
        "\"{:0.2f}\".format(auc)"
      ],
      "execution_count": 34,
      "outputs": [
        {
          "output_type": "execute_result",
          "data": {
            "application/vnd.google.colaboratory.intrinsic+json": {
              "type": "string"
            },
            "text/plain": [
              "'63.93'"
            ]
          },
          "metadata": {
            "tags": []
          },
          "execution_count": 34
        },
        {
          "output_type": "display_data",
          "data": {
            "image/png": "[encoded data removed]",
            "text/plain": [
              "<Figure size 432x288 with 1 Axes>"
            ]
          },
          "metadata": {
            "tags": [],
            "needs_background": "light"
          }
        }
      ]
    },
    {
      "cell_type": "code",
      "metadata": {
        "id": "iPMhFulOSEtt",
        "colab": {
          "base_uri": "https://localhost:8080/",
          "height": 0
        },
        "outputId": "854e0cde-3837-43d0-c5e4-04bd43a06ba6"
      },
      "source": [
        "scores(y_hat)"
      ],
      "execution_count": 36,
      "outputs": [
        {
          "output_type": "stream",
          "text": [
            "accuracy= 0.58688\n",
            "        incorrect  correct\n",
            "actual                    \n",
            "0            5011     7489\n",
            "1            5317     7183\n",
            "# Confusion Matrix: \n",
            "[[7489 5011]\n",
            " [5317 7183]]\n",
            "# # Accuracy: \n",
            "0.58688\n",
            "# Recall: \n",
            "[0.59912 0.57464]\n",
            "# Precision: \n",
            "[0.584804   0.58906019]\n",
            "              precision    recall  f1-score   support\n",
            "\n",
            "           0       0.58      0.60      0.59     12500\n",
            "           1       0.59      0.57      0.58     12500\n",
            "\n",
            "    accuracy                           0.59     25000\n",
            "   macro avg       0.59      0.59      0.59     25000\n",
            "weighted avg       0.59      0.59      0.59     25000\n",
            "\n"
          ],
          "name": "stdout"
        },
        {
          "output_type": "display_data",
          "data": {
            "image/png": "[encoded data removed]",
            "text/plain": [
              "<Figure size 432x288 with 1 Axes>"
            ]
          },
          "metadata": {
            "tags": [],
            "needs_background": "light"
          }
        }
      ]
    },
    {
      "cell_type": "markdown",
      "metadata": {
        "id": "eEmUNvl4Rm96"
      },
      "source": [
        "## LSTM MODEL\n"
      ]
    },
    {
      "cell_type": "markdown",
      "metadata": {
        "id": "1921FnYvFeLG"
      },
      "source": [
        "### Traning LSTM model"
      ]
    },
    {
      "cell_type": "code",
      "metadata": {
        "colab": {
          "base_uri": "https://localhost:8080/"
        },
        "id": "0R7-GosoJOAf",
        "outputId": "5130bfcd-0b67-46cd-f51e-87e79554860f"
      },
      "source": [
        "from keras.layers import LSTM\n",
        "output_dir = 'data/lstm'\n",
        "epochs = 4;batch_size = 128#Training \n",
        "n_dim = 64;n_unique_words = 5000;max_review_length = 100;pad_type = trunc_type = 'pre';drop_embed = 0.25 #vector-space embedding\n",
        "n_lstm = 256;drop_lstm = 0.2#lstm architecture \n",
        "(X_train,y_train),(X_valid,y_valid) = imdb.load_data(num_words=n_unique_words)\n",
        "X_train = pad_sequences(X_train,maxlen=max_review_length,padding=pad_type,value=0)\n",
        "X_valid = pad_sequences(X_valid,maxlen=max_review_length,padding=pad_type,value=0)"
      ],
      "execution_count": 40,
      "outputs": [
        {
          "output_type": "stream",
          "text": [
            "<string>:6: VisibleDeprecationWarning: Creating an ndarray from ragged nested sequences (which is a list-or-tuple of lists-or-tuples-or ndarrays with different lengths or shapes) is deprecated. If you meant to do this, you must specify 'dtype=object' when creating the ndarray\n",
            "/usr/local/lib/python3.7/dist-packages/tensorflow/python/keras/datasets/imdb.py:159: VisibleDeprecationWarning: Creating an ndarray from ragged nested sequences (which is a list-or-tuple of lists-or-tuples-or ndarrays with different lengths or shapes) is deprecated. If you meant to do this, you must specify 'dtype=object' when creating the ndarray\n",
            "  x_train, y_train = np.array(xs[:idx]), np.array(labels[:idx])\n",
            "/usr/local/lib/python3.7/dist-packages/tensorflow/python/keras/datasets/imdb.py:160: VisibleDeprecationWarning: Creating an ndarray from ragged nested sequences (which is a list-or-tuple of lists-or-tuples-or ndarrays with different lengths or shapes) is deprecated. If you meant to do this, you must specify 'dtype=object' when creating the ndarray\n",
            "  x_test, y_test = np.array(xs[idx:]), np.array(labels[idx:])\n"
          ],
          "name": "stderr"
        }
      ]
    },
    {
      "cell_type": "code",
      "metadata": {
        "colab": {
          "base_uri": "https://localhost:8080/"
        },
        "id": "mFuSujoDJRDX",
        "outputId": "86630376-d83a-4f76-9c36-587e1dd3a436"
      },
      "source": [
        "lstmmodel = Sequential(\n",
        "    [Embedding(n_unique_words, n_dim, input_length=max_review_length),\n",
        "    SpatialDropout1D(drop_embed),LSTM(n_lstm, dropout=drop_lstm),Dense(1,activation='sigmoid')])\n",
        "lstmmodel.summary()\n",
        "lstmmodel.compile(loss='binary_crossentropy',optimizer='adam',metrics=['accuracy'])\n",
        "lstmhist=lstmmodel.fit(X_train, y_train, batch_size=batch_size, epochs=epochs,verbose=1, validation_data=(X_valid, y_valid))"
      ],
      "execution_count": 41,
      "outputs": [
        {
          "output_type": "stream",
          "text": [
            "Model: \"sequential_5\"\n",
            "_________________________________________________________________\n",
            "Layer (type)                 Output Shape              Param #   \n",
            "=================================================================\n",
            "embedding_5 (Embedding)      (None, 100, 64)           320000    \n",
            "_________________________________________________________________\n",
            "spatial_dropout1d_4 (Spatial (None, 100, 64)           0         \n",
            "_________________________________________________________________\n",
            "lstm (LSTM)                  (None, 256)               328704    \n",
            "_________________________________________________________________\n",
            "dense_7 (Dense)              (None, 1)                 257       \n",
            "=================================================================\n",
            "Total params: 648,961\n",
            "Trainable params: 648,961\n",
            "Non-trainable params: 0\n",
            "_________________________________________________________________\n",
            "Epoch 1/4\n",
            "196/196 [==============================] - 7s 29ms/step - loss: 0.6272 - accuracy: 0.6223 - val_loss: 0.3539 - val_accuracy: 0.8470\n",
            "Epoch 2/4\n",
            "196/196 [==============================] - 5s 27ms/step - loss: 0.3168 - accuracy: 0.8673 - val_loss: 0.3653 - val_accuracy: 0.8403\n",
            "Epoch 3/4\n",
            "196/196 [==============================] - 5s 27ms/step - loss: 0.2886 - accuracy: 0.8816 - val_loss: 0.3468 - val_accuracy: 0.8523\n",
            "Epoch 4/4\n",
            "196/196 [==============================] - 5s 27ms/step - loss: 0.2389 - accuracy: 0.9058 - val_loss: 0.3671 - val_accuracy: 0.8482\n"
          ],
          "name": "stdout"
        }
      ]
    },
    {
      "cell_type": "markdown",
      "metadata": {
        "id": "2fjkZgDrFhJb"
      },
      "source": [
        "### evaluating lstm model performance"
      ]
    },
    {
      "cell_type": "code",
      "metadata": {
        "id": "0_XCkmitRm-A",
        "colab": {
          "base_uri": "https://localhost:8080/",
          "height": 0
        },
        "outputId": "3b90bc3a-0abb-4a00-e593-eb6ab15ed0ac"
      },
      "source": [
        "y_hat = lstmmodel.predict_proba(X_valid)\n",
        "plt.hist(y_hat);_ = plt.axvline(x=0.5, color='orange');plt.tight_layout()\n",
        "auc = roc_auc_score(y_valid,y_hat)*100;print(\"{:0.2f}\".format(auc))"
      ],
      "execution_count": 43,
      "outputs": [
        {
          "output_type": "stream",
          "text": [
            "/usr/local/lib/python3.7/dist-packages/tensorflow/python/keras/engine/sequential.py:425: UserWarning: `model.predict_proba()` is deprecated and will be removed after 2021-01-01. Please use `model.predict()` instead.\n",
            "  warnings.warn('`model.predict_proba()` is deprecated and '\n"
          ],
          "name": "stderr"
        },
        {
          "output_type": "stream",
          "text": [
            "92.62\n"
          ],
          "name": "stdout"
        },
        {
          "output_type": "display_data",
          "data": {
            "image/png": "[encoded data removed]",
            "text/plain": [
              "<Figure size 432x288 with 1 Axes>"
            ]
          },
          "metadata": {
            "tags": [],
            "needs_background": "light"
          }
        }
      ]
    },
    {
      "cell_type": "code",
      "metadata": {
        "id": "SyRkHeQvXcq2",
        "colab": {
          "base_uri": "https://localhost:8080/",
          "height": 0
        },
        "outputId": "b4508b5d-9a15-4821-9291-d98e669882b8"
      },
      "source": [
        "scores(y_hat)"
      ],
      "execution_count": 44,
      "outputs": [
        {
          "output_type": "stream",
          "text": [
            "accuracy= 0.8482\n",
            "        incorrect  correct\n",
            "actual                    \n",
            "0            1774    10726\n",
            "1            2021    10479\n",
            "# Confusion Matrix: \n",
            "[[10726  1774]\n",
            " [ 2021 10479]]\n",
            "# # Accuracy: \n",
            "0.8482\n",
            "# Recall: \n",
            "[0.85808 0.83832]\n",
            "# Precision: \n",
            "[0.84145289 0.85521913]\n",
            "              precision    recall  f1-score   support\n",
            "\n",
            "           0       0.84      0.86      0.85     12500\n",
            "           1       0.86      0.84      0.85     12500\n",
            "\n",
            "    accuracy                           0.85     25000\n",
            "   macro avg       0.85      0.85      0.85     25000\n",
            "weighted avg       0.85      0.85      0.85     25000\n",
            "\n"
          ],
          "name": "stdout"
        },
        {
          "output_type": "display_data",
          "data": {
            "image/png": "[encoded data removed]",
            "text/plain": [
              "<Figure size 432x288 with 1 Axes>"
            ]
          },
          "metadata": {
            "tags": [],
            "needs_background": "light"
          }
        }
      ]
    },
    {
      "cell_type": "markdown",
      "metadata": {
        "id": "6cIfHs3uRm-E"
      },
      "source": [
        "## cnn model"
      ]
    },
    {
      "cell_type": "markdown",
      "metadata": {
        "id": "5xTStYbZHsrg"
      },
      "source": [
        "### training cnn model"
      ]
    },
    {
      "cell_type": "code",
      "metadata": {
        "id": "dCtNNJc9Rm-H",
        "colab": {
          "base_uri": "https://localhost:8080/"
        },
        "outputId": "7b57e6af-71f1-4ffc-81e1-00230dbe9128"
      },
      "source": [
        "from keras.layers import Conv1D, GlobalMaxPooling1D, MaxPool1D, SpatialDropout1D\n",
        "output_dir = 'data/conv'\n",
        "epochs = 4;batch_size = 128#Training \n",
        "n_dim = 64;n_unique_words = 5000;max_review_length = 300;pad_type = trunc_type = 'pre';drop_embed = 0.2#vector-space embedding\n",
        "n_con = 256;k_con = 3#conv \n",
        "n_dense = 256;dropout = 0.2#NN\n",
        "(X_train,y_train),(X_valid,y_valid) = imdb.load_data(num_words=n_unique_words)\n",
        "X_train = pad_sequences(X_train,maxlen=max_review_length,padding=pad_type,value=0)\n",
        "X_valid = pad_sequences(X_valid,maxlen=max_review_length,padding=pad_type,value=0)"
      ],
      "execution_count": 45,
      "outputs": [
        {
          "output_type": "stream",
          "text": [
            "<string>:6: VisibleDeprecationWarning: Creating an ndarray from ragged nested sequences (which is a list-or-tuple of lists-or-tuples-or ndarrays with different lengths or shapes) is deprecated. If you meant to do this, you must specify 'dtype=object' when creating the ndarray\n",
            "/usr/local/lib/python3.7/dist-packages/tensorflow/python/keras/datasets/imdb.py:159: VisibleDeprecationWarning: Creating an ndarray from ragged nested sequences (which is a list-or-tuple of lists-or-tuples-or ndarrays with different lengths or shapes) is deprecated. If you meant to do this, you must specify 'dtype=object' when creating the ndarray\n",
            "  x_train, y_train = np.array(xs[:idx]), np.array(labels[:idx])\n",
            "/usr/local/lib/python3.7/dist-packages/tensorflow/python/keras/datasets/imdb.py:160: VisibleDeprecationWarning: Creating an ndarray from ragged nested sequences (which is a list-or-tuple of lists-or-tuples-or ndarrays with different lengths or shapes) is deprecated. If you meant to do this, you must specify 'dtype=object' when creating the ndarray\n",
            "  x_test, y_test = np.array(xs[idx:]), np.array(labels[idx:])\n"
          ],
          "name": "stderr"
        }
      ]
    },
    {
      "cell_type": "code",
      "metadata": {
        "id": "ty67qdYPRm-O",
        "colab": {
          "base_uri": "https://localhost:8080/"
        },
        "outputId": "8325765a-70bc-4e14-caa0-c127120faa18"
      },
      "source": [
        "word_index = keras.datasets.imdb.get_word_index()\n",
        "word_index = {k:(v+3) for k,v in word_index.items()}\n",
        "#Manually set the PAD , START, UNK indexes \n",
        "word_index['PAD']=0\n",
        "word_index['START']=1\n",
        "word_index['UNK']=2\n",
        "\n",
        "cnnmodel = Sequential()\n",
        "cnnmodel.add(Embedding(n_unique_words, n_dim, input_length=max_review_length))\n",
        "cnnmodel.add(SpatialDropout1D(drop_embed))\n",
        "cnnmodel.add(Conv1D(n_con,k_con,activation='relu'))\n",
        "cnnmodel.add(GlobalMaxPooling1D())\n",
        "cnnmodel.add(Dense(n_dense, activation='relu'))\n",
        "cnnmodel.add(Dropout(dropout))\n",
        "cnnmodel.add(Dense(1,activation='sigmoid'))\n",
        "cnnmodel.summary()\n",
        "cnnmodel.compile(loss='binary_crossentropy',optimizer='adam',metrics=['accuracy'])\n",
        "modelcheckpoint = ModelCheckpoint(filepath=output_dir+\"/weights.{epoch:02d}.hdf5\")\n",
        "cnnhist=cnnmodel.fit(X_train, y_train, batch_size=batch_size, epochs=epochs,verbose=1, validation_data=(X_valid, y_valid), callbacks=[modelcheckpoint])"
      ],
      "execution_count": 46,
      "outputs": [
        {
          "output_type": "stream",
          "text": [
            "Model: \"sequential_6\"\n",
            "_________________________________________________________________\n",
            "Layer (type)                 Output Shape              Param #   \n",
            "=================================================================\n",
            "embedding_6 (Embedding)      (None, 300, 64)           320000    \n",
            "_________________________________________________________________\n",
            "spatial_dropout1d_5 (Spatial (None, 300, 64)           0         \n",
            "_________________________________________________________________\n",
            "conv1d_1 (Conv1D)            (None, 298, 256)          49408     \n",
            "_________________________________________________________________\n",
            "global_max_pooling1d_1 (Glob (None, 256)               0         \n",
            "_________________________________________________________________\n",
            "dense_8 (Dense)              (None, 256)               65792     \n",
            "_________________________________________________________________\n",
            "dropout_1 (Dropout)          (None, 256)               0         \n",
            "_________________________________________________________________\n",
            "dense_9 (Dense)              (None, 1)                 257       \n",
            "=================================================================\n",
            "Total params: 435,457\n",
            "Trainable params: 435,457\n",
            "Non-trainable params: 0\n",
            "_________________________________________________________________\n",
            "Epoch 1/4\n",
            "196/196 [==============================] - 6s 26ms/step - loss: 0.6132 - accuracy: 0.6239 - val_loss: 0.3096 - val_accuracy: 0.8672\n",
            "Epoch 2/4\n",
            "196/196 [==============================] - 5s 24ms/step - loss: 0.2648 - accuracy: 0.8917 - val_loss: 0.2639 - val_accuracy: 0.8892\n",
            "Epoch 3/4\n",
            "196/196 [==============================] - 5s 24ms/step - loss: 0.1703 - accuracy: 0.9394 - val_loss: 0.2674 - val_accuracy: 0.8920\n",
            "Epoch 4/4\n",
            "196/196 [==============================] - 5s 24ms/step - loss: 0.1065 - accuracy: 0.9679 - val_loss: 0.2898 - val_accuracy: 0.8902\n"
          ],
          "name": "stdout"
        }
      ]
    },
    {
      "cell_type": "code",
      "metadata": {
        "id": "dOtnkvANRm-S"
      },
      "source": [
        "cnnmodel.save_weights(directory+\"/cnnweights_02.h5\")"
      ],
      "execution_count": 47,
      "outputs": []
    },
    {
      "cell_type": "markdown",
      "metadata": {
        "id": "wE4QPznVH2fT"
      },
      "source": [
        "### evaluating cnn model performance"
      ]
    },
    {
      "cell_type": "code",
      "metadata": {
        "colab": {
          "base_uri": "https://localhost:8080/",
          "height": 367
        },
        "id": "_K8syKP7J33I",
        "outputId": "6bd56876-6969-4e90-d2b1-88be24eefe64"
      },
      "source": [
        "y_hat = cnnmodel.predict_proba(X_valid)\n",
        "plt.hist(y_hat);_ = plt.axvline(x=0.5, color='orange');plt.tight_layout()\n",
        "auc = roc_auc_score(y_valid,y_hat)*100;print(\"{:0.2f}\".format(auc))"
      ],
      "execution_count": 48,
      "outputs": [
        {
          "output_type": "stream",
          "text": [
            "/usr/local/lib/python3.7/dist-packages/tensorflow/python/keras/engine/sequential.py:425: UserWarning: `model.predict_proba()` is deprecated and will be removed after 2021-01-01. Please use `model.predict()` instead.\n",
            "  warnings.warn('`model.predict_proba()` is deprecated and '\n"
          ],
          "name": "stderr"
        },
        {
          "output_type": "stream",
          "text": [
            "95.77\n"
          ],
          "name": "stdout"
        },
        {
          "output_type": "display_data",
          "data": {
            "image/png": "[encoded data removed]",
            "text/plain": [
              "<Figure size 432x288 with 1 Axes>"
            ]
          },
          "metadata": {
            "tags": [],
            "needs_background": "light"
          }
        }
      ]
    },
    {
      "cell_type": "code",
      "metadata": {
        "colab": {
          "base_uri": "https://localhost:8080/",
          "height": 662
        },
        "id": "Js8I0Q7DJ8wp",
        "outputId": "2dac448f-15e7-4222-d809-1a05642f69df"
      },
      "source": [
        "scores(y_hat)"
      ],
      "execution_count": 50,
      "outputs": [
        {
          "output_type": "stream",
          "text": [
            "accuracy= 0.8902\n",
            "        incorrect  correct\n",
            "actual                    \n",
            "0            1313    11187\n",
            "1            1432    11068\n",
            "# Confusion Matrix: \n",
            "[[11187  1313]\n",
            " [ 1432 11068]]\n",
            "# # Accuracy: \n",
            "0.8902\n",
            "# Recall: \n",
            "[0.89496 0.88544]\n",
            "# Precision: \n",
            "[0.88652033 0.89395041]\n",
            "              precision    recall  f1-score   support\n",
            "\n",
            "           0       0.89      0.89      0.89     12500\n",
            "           1       0.89      0.89      0.89     12500\n",
            "\n",
            "    accuracy                           0.89     25000\n",
            "   macro avg       0.89      0.89      0.89     25000\n",
            "weighted avg       0.89      0.89      0.89     25000\n",
            "\n"
          ],
          "name": "stdout"
        },
        {
          "output_type": "display_data",
          "data": {
            "image/png": "[encoded data removed]",
            "text/plain": [
              "<Figure size 432x288 with 1 Axes>"
            ]
          },
          "metadata": {
            "tags": [],
            "needs_background": "light"
          }
        }
      ]
    },
    {
      "cell_type": "markdown",
      "metadata": {
        "id": "bc_H-4cJIvB2"
      },
      "source": [
        "# Comparision of all the base NN models"
      ]
    },
    {
      "cell_type": "code",
      "metadata": {
        "id": "wh_PWEHhR62K",
        "colab": {
          "base_uri": "https://localhost:8080/",
          "height": 541
        },
        "outputId": "dbd43fdc-357c-4f0a-ab10-2c54aae04f2f"
      },
      "source": [
        "\n",
        "def plot_graphs(history, string):\n",
        "  plt.plot(history.history[string])\n",
        "  plt.plot(history.history['val_'+string])\n",
        "  plt.xlabel(\"Epochs\")\n",
        "  plt.ylabel(string)\n",
        "  plt.legend([string,\"val\"+string])\n",
        "  plt.show()\n",
        "  \n",
        "\n",
        "plot_graphs(dnnhist, 'accuracy')\n",
        "plot_graphs(dnnhist, 'loss')\n",
        "# plt.show()"
      ],
      "execution_count": 51,
      "outputs": [
        {
          "output_type": "display_data",
          "data": {
            "image/png": "[encoded data removed]",
            "text/plain": [
              "<Figure size 432x288 with 1 Axes>"
            ]
          },
          "metadata": {
            "tags": [],
            "needs_background": "light"
          }
        },
        {
          "output_type": "display_data",
          "data": {
            "image/png": "[encoded data removed]",
            "text/plain": [
              "<Figure size 432x288 with 1 Axes>"
            ]
          },
          "metadata": {
            "tags": [],
            "needs_background": "light"
          }
        }
      ]
    },
    {
      "cell_type": "code",
      "metadata": {
        "id": "bKdtm5dHU6dw",
        "colab": {
          "base_uri": "https://localhost:8080/",
          "height": 541
        },
        "outputId": "6d367b3c-1c32-49c5-a369-30d4f3363a08"
      },
      "source": [
        "plot_graphs(rnnhist, 'accuracy')\n",
        "plot_graphs(rnnhist, 'loss')"
      ],
      "execution_count": 52,
      "outputs": [
        {
          "output_type": "display_data",
          "data": {
            "image/png": "[encoded data removed]",
            "text/plain": [
              "<Figure size 432x288 with 1 Axes>"
            ]
          },
          "metadata": {
            "tags": [],
            "needs_background": "light"
          }
        },
        {
          "output_type": "display_data",
          "data": {
            "image/png": "[encoded data removed]",
            "text/plain": [
              "<Figure size 432x288 with 1 Axes>"
            ]
          },
          "metadata": {
            "tags": [],
            "needs_background": "light"
          }
        }
      ]
    },
    {
      "cell_type": "code",
      "metadata": {
        "id": "m6FdXJSuYfHN",
        "colab": {
          "base_uri": "https://localhost:8080/",
          "height": 279
        },
        "outputId": "953a42cf-b35a-4ffb-9029-d9a2b64786ab"
      },
      "source": [
        "def plot_graphs(history, string):\n",
        "  plt.plot(history.history['val_'+string])\n",
        "plot_graphs(dnnhist,\"accuracy\")\n",
        "plot_graphs(rnnhist,\"accuracy\")\n",
        "plot_graphs(cnnhist,\"accuracy\")\n",
        "plot_graphs(lstmhist,\"accuracy\")\n",
        "plt.xlabel(\"Epochs\")\n",
        "plt.ylabel(\"val accuracy\")\n",
        "plt.legend([\"dnn\",\"rnn\",\"cnn\",\"lstm\"])\n",
        "plt.show()"
      ],
      "execution_count": 53,
      "outputs": [
        {
          "output_type": "display_data",
          "data": {
            "image/png": "[encoded data removed]",
            "text/plain": [
              "<Figure size 432x288 with 1 Axes>"
            ]
          },
          "metadata": {
            "tags": [],
            "needs_background": "light"
          }
        }
      ]
    },
    {
      "cell_type": "code",
      "metadata": {
        "id": "kDwXy6hVKn4W"
      },
      "source": [
        "# #y_valid\n",
        "# import pandas as pd\n",
        "# preds=pd.DataFrame(y_hat)\n",
        "# preds.columns=[\"p\"]\n",
        "# preds[\"pred\"]=preds.p.apply(lambda x: 1 if (x>=0.5) else 0)\n",
        "# preds[\"actual\"]=pd.DataFrame(y_valid,columns=[\"actual\"])\n",
        "# preds.head(3)\n",
        "# preds[\"coreect\"]=preds.pred==preds.actual\n",
        "# preds.head(3)\n",
        "# preds.coreect=preds.coreect.astype(int)\n",
        "# print(\"accuracy=\",preds.coreect.mean())\n",
        "# a=preds.groupby(\"actual\").coreect.value_counts().unstack()\n",
        "# a.plot(kind='bar')\n",
        "# a.columns=[\"incorrect\",\"correct\"]\n",
        "# print(a)\n",
        "# from sklearn.metrics import confusion_matrix\n",
        "# from sklearn.metrics import accuracy_score\n",
        "# from sklearn.metrics import recall_score\n",
        "# from sklearn.metrics import precision_score\n",
        "# from sklearn.metrics import classification_report\n",
        "# from sklearn.metrics import classification_report, confusion_matrix, accuracy_score\n",
        "\n",
        "# y_true1=y_valid\n",
        "# y_pred_1=preds.actual.values\n",
        "# print(\"# Confusion Matrix: \",confusion_matrix(y_true1, y_pred_1),sep=\"\\n\")                  # Confusion Matrix\n",
        "# print(\"# # Accuracy: \",accuracy_score(y_true1, y_pred_1),sep=\"\\n\")                          # Accuracy\n",
        "# print(\"# Recall: \",recall_score(y_true1, y_pred_1, average=None),sep=\"\\n\")                 # Recall\n",
        "# print(\"# Precision: \",precision_score(y_true1, y_pred_1, average=None),sep=\"\\n\")  \n",
        "\n",
        "# print(confusion_matrix(y_true1, y_pred_1))\n",
        "# print(classification_report(y_true1, y_pred_1))\n",
        "# print(accuracy_score(y_true1, y_pred_1))\n",
        "# preds.head()\n",
        "# # heat map\n",
        "# import seaborn as sns\n",
        "# from sklearn import metrics\n",
        "# cm = metrics.confusion_matrix(preds.actual.values, preds.pred.values)\n",
        "# print(cm)\n",
        "# import numpy as np\n",
        "# predictions=preds.pred.values\n",
        "# y_test=preds.actual.values\n",
        "# score=np.mean(predictions == y_test)\n",
        "# plt.figure(figsize=(9,9))\n",
        "# sns.heatmap(cm, annot=True, fmt=\".3f\", linewidths=.5, square = True, cmap = 'Blues_r')\n",
        "# plt.ylabel('Actual label');\n",
        "# plt.xlabel('Predicted label');\n",
        "# all_sample_title = 'Accuracy Score: {0}'.format(score)\n",
        "# plt.title(all_sample_title, size = 15);"
      ],
      "execution_count": null,
      "outputs": []
    }
  ]
}